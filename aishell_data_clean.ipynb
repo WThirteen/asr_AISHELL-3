{
 "cells": [
  {
   "cell_type": "code",
   "execution_count": 14,
   "metadata": {},
   "outputs": [],
   "source": [
    "import os\n",
    "path = 'AISHELL-3/train/wav/'\n",
    "files = os.listdir(path)"
   ]
  },
  {
   "cell_type": "code",
   "execution_count": 48,
   "metadata": {},
   "outputs": [],
   "source": [
    "# 音频文件\n",
    "wav_file=[]\n",
    "# 音频文件的相对路径\n",
    "wav_file_path=[]\n",
    "\n",
    "for i in files:\n",
    "    temp_files = os.listdir(path+i)\n",
    "    for j in temp_files:\n",
    "        wav_file.append(j)\n",
    "        wav_file_path.append(path+i+'/'+j)\n",
    "\n"
   ]
  },
  {
   "cell_type": "markdown",
   "metadata": {},
   "source": [
    "* 两种导入方式"
   ]
  },
  {
   "cell_type": "code",
   "execution_count": 54,
   "metadata": {},
   "outputs": [],
   "source": [
    "# with open(\"AISHELL-3/train/content.txt\", \"r\", encoding='utf-8') as f:  # 打开文件\n",
    "#     data = f.read()  # 读取文件\n",
    "    # print(data)"
   ]
  },
  {
   "cell_type": "code",
   "execution_count": 60,
   "metadata": {},
   "outputs": [],
   "source": [
    "f=open(\"AISHELL-3/train/content.txt\", \"r\", encoding='utf-8')\n",
    "txt=[]\n",
    "for line in f:\n",
    "    txt.append(line.strip())\n"
   ]
  },
  {
   "cell_type": "code",
   "execution_count": 66,
   "metadata": {},
   "outputs": [],
   "source": [
    "# 音频文件名字\n",
    "txt_filename = []\n",
    "# 对应文件内容\n",
    "txt_wav = []\n",
    "\n",
    "for i in txt:\n",
    "    temp_txt_filename,temp_txt_wav = i.split('\\t')\n",
    "    txt_filename.append(temp_txt_filename)\n",
    "    txt_wav.append(temp_txt_wav)"
   ]
  },
  {
   "cell_type": "code",
   "execution_count": 76,
   "metadata": {},
   "outputs": [],
   "source": [
    "# 字典 字母+数字\n",
    "en_num_all = []\n",
    "\n",
    "for letter in 'abcdefghijklmnopqrstuvwxyz':\n",
    "    en_num_all.extend(letter)\n",
    "\n",
    "for number in range(10):  \n",
    "   en_num_all.extend(str(number))\n",
    "   \n",
    "en_num_all.extend(' ')"
   ]
  },
  {
   "cell_type": "code",
   "execution_count": 109,
   "metadata": {},
   "outputs": [],
   "source": [
    "# 音频文字\n",
    "texts = []\n",
    "\n",
    "for i in txt_wav:\n",
    "    temp = ''\n",
    "    for j in i:\n",
    "        if j in en_num_all:\n",
    "            continue\n",
    "        else:\n",
    "            # print(j)\n",
    "            temp = temp+j\n",
    "    texts.append(temp)\n",
    "        "
   ]
  },
  {
   "cell_type": "markdown",
   "metadata": {},
   "source": [
    "#### texts 与 wav_file_path 对应"
   ]
  },
  {
   "cell_type": "code",
   "execution_count": 110,
   "metadata": {},
   "outputs": [
    {
     "data": {
      "text/plain": [
       "'一百三十三万三千五百六十五'"
      ]
     },
     "execution_count": 110,
     "metadata": {},
     "output_type": "execute_result"
    }
   ],
   "source": [
    "texts[-1]"
   ]
  },
  {
   "cell_type": "code",
   "execution_count": 107,
   "metadata": {},
   "outputs": [
    {
     "data": {
      "text/plain": [
       "'AISHELL-3/train/wav/SSB1956/SSB19560481.wav'"
      ]
     },
     "execution_count": 107,
     "metadata": {},
     "output_type": "execute_result"
    }
   ],
   "source": [
    "wav_file_path[-1]"
   ]
  }
 ],
 "metadata": {
  "kernelspec": {
   "display_name": "Python 3",
   "language": "python",
   "name": "python3"
  },
  "language_info": {
   "codemirror_mode": {
    "name": "ipython",
    "version": 3
   },
   "file_extension": ".py",
   "mimetype": "text/x-python",
   "name": "python",
   "nbconvert_exporter": "python",
   "pygments_lexer": "ipython3",
   "version": "3.10.2"
  }
 },
 "nbformat": 4,
 "nbformat_minor": 2
}
